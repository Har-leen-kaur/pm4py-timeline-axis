{
 "cells": [
  {
   "cell_type": "code",
   "execution_count": 1,
   "metadata": {},
   "outputs": [],
   "source": [
    "import pm4py"
   ]
  },
  {
   "cell_type": "code",
   "execution_count": 161,
   "metadata": {},
   "outputs": [
    {
     "data": {
      "application/vnd.jupyter.widget-view+json": {
       "model_id": "d42a1e50a9634e37beec092aecbc917a",
       "version_major": 2,
       "version_minor": 0
      },
      "text/plain": [
       "parsing log, completed traces ::   0%|          | 0/100 [00:00<?, ?it/s]"
      ]
     },
     "metadata": {},
     "output_type": "display_data"
    },
    {
     "name": "stdout",
     "output_type": "stream",
     "text": [
      " Type of the file that is read : <class 'pandas.core.frame.DataFrame'>\n",
      " Length of the file that is read : 590\n"
     ]
    }
   ],
   "source": [
    "import pandas as pd\n",
    "import numpy as np\n",
    "import pm4py\n",
    "import os\n",
    "\n",
    "path_loan = \"C:/Users/harleenkaur/Documents/thesis/event logs/Artificial - Loan Process.xes\"\n",
    "log = pm4py.read_xes(path_loan)\n",
    "print(f\" Type of the file that is read : {type(log)}\")\n",
    "print(f\" Length of the file that is read : {len(log)}\")"
   ]
  },
  {
   "cell_type": "code",
   "execution_count": 3,
   "metadata": {},
   "outputs": [
    {
     "data": {
      "text/html": [
       "<div>\n",
       "<style scoped>\n",
       "    .dataframe tbody tr th:only-of-type {\n",
       "        vertical-align: middle;\n",
       "    }\n",
       "\n",
       "    .dataframe tbody tr th {\n",
       "        vertical-align: top;\n",
       "    }\n",
       "\n",
       "    .dataframe thead th {\n",
       "        text-align: right;\n",
       "    }\n",
       "</style>\n",
       "<table border=\"1\" class=\"dataframe\">\n",
       "  <thead>\n",
       "    <tr style=\"text-align: right;\">\n",
       "      <th></th>\n",
       "      <th>time:timestamp</th>\n",
       "      <th>concept:name</th>\n",
       "      <th>lifecycle:transition</th>\n",
       "      <th>case:concept:name</th>\n",
       "    </tr>\n",
       "  </thead>\n",
       "  <tbody>\n",
       "    <tr>\n",
       "      <th>0</th>\n",
       "      <td>2013-04-16 10:08:01.821000+02:00</td>\n",
       "      <td>register application</td>\n",
       "      <td>complete</td>\n",
       "      <td>trace 0</td>\n",
       "    </tr>\n",
       "    <tr>\n",
       "      <th>1</th>\n",
       "      <td>2013-04-16 10:16:02.889000+02:00</td>\n",
       "      <td>check credit</td>\n",
       "      <td>complete</td>\n",
       "      <td>trace 0</td>\n",
       "    </tr>\n",
       "    <tr>\n",
       "      <th>2</th>\n",
       "      <td>2013-04-16 10:16:27.858000+02:00</td>\n",
       "      <td>calculate capacity</td>\n",
       "      <td>complete</td>\n",
       "      <td>trace 0</td>\n",
       "    </tr>\n",
       "    <tr>\n",
       "      <th>3</th>\n",
       "      <td>2013-04-16 10:20:25.117000+02:00</td>\n",
       "      <td>check system</td>\n",
       "      <td>complete</td>\n",
       "      <td>trace 0</td>\n",
       "    </tr>\n",
       "    <tr>\n",
       "      <th>4</th>\n",
       "      <td>2013-04-16 10:21:29.939000+02:00</td>\n",
       "      <td>accept</td>\n",
       "      <td>complete</td>\n",
       "      <td>trace 0</td>\n",
       "    </tr>\n",
       "  </tbody>\n",
       "</table>\n",
       "</div>"
      ],
      "text/plain": [
       "                    time:timestamp          concept:name lifecycle:transition  \\\n",
       "0 2013-04-16 10:08:01.821000+02:00  register application             complete   \n",
       "1 2013-04-16 10:16:02.889000+02:00          check credit             complete   \n",
       "2 2013-04-16 10:16:27.858000+02:00    calculate capacity             complete   \n",
       "3 2013-04-16 10:20:25.117000+02:00          check system             complete   \n",
       "4 2013-04-16 10:21:29.939000+02:00                accept             complete   \n",
       "\n",
       "  case:concept:name  \n",
       "0           trace 0  \n",
       "1           trace 0  \n",
       "2           trace 0  \n",
       "3           trace 0  \n",
       "4           trace 0  "
      ]
     },
     "execution_count": 3,
     "metadata": {},
     "output_type": "execute_result"
    }
   ],
   "source": [
    "log.head()"
   ]
  },
  {
   "cell_type": "code",
   "execution_count": 4,
   "metadata": {},
   "outputs": [
    {
     "name": "stdout",
     "output_type": "stream",
     "text": [
      "Start activities: {'register application': 100}\n",
      "End activities: {'send decision e-mail': 100}\n"
     ]
    }
   ],
   "source": [
    "start_activities = pm4py.get_start_activities(log)\n",
    "end_activities = pm4py.get_end_activities(log)\n",
    "print(\"Start activities: {}\\nEnd activities: {}\".format(start_activities, end_activities))"
   ]
  },
  {
   "cell_type": "code",
   "execution_count": 20,
   "metadata": {},
   "outputs": [
    {
     "name": "stdout",
     "output_type": "stream",
     "text": [
      "('accept', 'send decision e-mail') 20\n",
      "('calculate capacity', 'accept') 13\n",
      "('calculate capacity', 'check credit') 6\n",
      "('calculate capacity', 'check system') 46\n",
      "('calculate capacity', 'reject') 35\n",
      "('check credit', 'accept') 1\n",
      "('check credit', 'calculate capacity') 54\n",
      "('check credit', 'check system') 38\n",
      "('check credit', 'reject') 7\n",
      "('check system', 'accept') 6\n",
      "('check system', 'calculate capacity') 42\n",
      "('check system', 'check credit') 4\n",
      "('check system', 'reject') 38\n",
      "('register application', 'calculate capacity') 4\n",
      "('register application', 'check credit') 90\n",
      "('register application', 'check system') 6\n",
      "('reject', 'send decision e-mail') 80\n"
     ]
    }
   ],
   "source": [
    "dfg, start_activities, end_activities = pm4py.discover_dfg_typed(log) \n",
    "for item, key in dfg.items():\n",
    "    print(item, key)\n"
   ]
  },
  {
   "cell_type": "code",
   "execution_count": null,
   "metadata": {},
   "outputs": [],
   "source": []
  },
  {
   "cell_type": "markdown",
   "metadata": {},
   "source": [
    "## Visualising the DFG"
   ]
  },
  {
   "cell_type": "code",
   "execution_count": 21,
   "metadata": {},
   "outputs": [
    {
     "data": {
      "image/png": "[encoded data removed]",
      "text/plain": [
       "<IPython.core.display.Image object>"
      ]
     },
     "metadata": {},
     "output_type": "display_data"
    }
   ],
   "source": [
    "#pm4py.vis.view_dfg(dfg, start_activities, end_activities)  \n",
    "pm4py.view_dfg(dfg,start_activities, end_activities)"
   ]
  },
  {
   "cell_type": "code",
   "execution_count": 41,
   "metadata": {},
   "outputs": [
    {
     "data": {
      "image/png": "[encoded data removed]",
      "text/plain": [
       "<IPython.core.display.Image object>"
      ]
     },
     "metadata": {},
     "output_type": "display_data"
    }
   ],
   "source": [
    "map = pm4py.discover_heuristics_net(log)\n",
    "pm4py.view_heuristics_net(map)"
   ]
  },
  {
   "cell_type": "markdown",
   "metadata": {},
   "source": [
    "## Calculate average time between start_event and end_event for trace 0"
   ]
  },
  {
   "cell_type": "code",
   "execution_count": 154,
   "metadata": {},
   "outputs": [
    {
     "data": {
      "text/html": [
       "<div>\n",
       "<style scoped>\n",
       "    .dataframe tbody tr th:only-of-type {\n",
       "        vertical-align: middle;\n",
       "    }\n",
       "\n",
       "    .dataframe tbody tr th {\n",
       "        vertical-align: top;\n",
       "    }\n",
       "\n",
       "    .dataframe thead th {\n",
       "        text-align: right;\n",
       "    }\n",
       "</style>\n",
       "<table border=\"1\" class=\"dataframe\">\n",
       "  <thead>\n",
       "    <tr style=\"text-align: right;\">\n",
       "      <th></th>\n",
       "      <th>time:timestamp</th>\n",
       "      <th>concept:name</th>\n",
       "      <th>lifecycle:transition</th>\n",
       "      <th>case:concept:name</th>\n",
       "    </tr>\n",
       "  </thead>\n",
       "  <tbody>\n",
       "    <tr>\n",
       "      <th>0</th>\n",
       "      <td>2013-04-16 10:08:01.821000+02:00</td>\n",
       "      <td>register application</td>\n",
       "      <td>complete</td>\n",
       "      <td>trace 0</td>\n",
       "    </tr>\n",
       "    <tr>\n",
       "      <th>1</th>\n",
       "      <td>2013-04-16 10:16:02.889000+02:00</td>\n",
       "      <td>check credit</td>\n",
       "      <td>complete</td>\n",
       "      <td>trace 0</td>\n",
       "    </tr>\n",
       "    <tr>\n",
       "      <th>2</th>\n",
       "      <td>2013-04-16 10:16:27.858000+02:00</td>\n",
       "      <td>calculate capacity</td>\n",
       "      <td>complete</td>\n",
       "      <td>trace 0</td>\n",
       "    </tr>\n",
       "    <tr>\n",
       "      <th>3</th>\n",
       "      <td>2013-04-16 10:20:25.117000+02:00</td>\n",
       "      <td>check system</td>\n",
       "      <td>complete</td>\n",
       "      <td>trace 0</td>\n",
       "    </tr>\n",
       "    <tr>\n",
       "      <th>4</th>\n",
       "      <td>2013-04-16 10:21:29.939000+02:00</td>\n",
       "      <td>accept</td>\n",
       "      <td>complete</td>\n",
       "      <td>trace 0</td>\n",
       "    </tr>\n",
       "    <tr>\n",
       "      <th>5</th>\n",
       "      <td>2013-04-16 10:26:53.166000+02:00</td>\n",
       "      <td>send decision e-mail</td>\n",
       "      <td>complete</td>\n",
       "      <td>trace 0</td>\n",
       "    </tr>\n",
       "    <tr>\n",
       "      <th>6</th>\n",
       "      <td>2013-04-16 10:10:01.759000+02:00</td>\n",
       "      <td>register application</td>\n",
       "      <td>complete</td>\n",
       "      <td>trace 1</td>\n",
       "    </tr>\n",
       "  </tbody>\n",
       "</table>\n",
       "</div>"
      ],
      "text/plain": [
       "                    time:timestamp          concept:name lifecycle:transition  \\\n",
       "0 2013-04-16 10:08:01.821000+02:00  register application             complete   \n",
       "1 2013-04-16 10:16:02.889000+02:00          check credit             complete   \n",
       "2 2013-04-16 10:16:27.858000+02:00    calculate capacity             complete   \n",
       "3 2013-04-16 10:20:25.117000+02:00          check system             complete   \n",
       "4 2013-04-16 10:21:29.939000+02:00                accept             complete   \n",
       "5 2013-04-16 10:26:53.166000+02:00  send decision e-mail             complete   \n",
       "6 2013-04-16 10:10:01.759000+02:00  register application             complete   \n",
       "\n",
       "  case:concept:name  \n",
       "0           trace 0  \n",
       "1           trace 0  \n",
       "2           trace 0  \n",
       "3           trace 0  \n",
       "4           trace 0  \n",
       "5           trace 0  \n",
       "6           trace 1  "
      ]
     },
     "execution_count": 154,
     "metadata": {},
     "output_type": "execute_result"
    }
   ],
   "source": [
    "log[:7]"
   ]
  },
  {
   "cell_type": "code",
   "execution_count": 91,
   "metadata": {},
   "outputs": [
    {
     "data": {
      "text/html": [
       "<div>\n",
       "<style scoped>\n",
       "    .dataframe tbody tr th:only-of-type {\n",
       "        vertical-align: middle;\n",
       "    }\n",
       "\n",
       "    .dataframe tbody tr th {\n",
       "        vertical-align: top;\n",
       "    }\n",
       "\n",
       "    .dataframe thead th {\n",
       "        text-align: right;\n",
       "    }\n",
       "</style>\n",
       "<table border=\"1\" class=\"dataframe\">\n",
       "  <thead>\n",
       "    <tr style=\"text-align: right;\">\n",
       "      <th></th>\n",
       "      <th>time:timestamp</th>\n",
       "      <th>concept:name</th>\n",
       "      <th>lifecycle:transition</th>\n",
       "      <th>case:concept:name</th>\n",
       "    </tr>\n",
       "  </thead>\n",
       "  <tbody>\n",
       "    <tr>\n",
       "      <th>0</th>\n",
       "      <td>2013-04-16 10:08:01.821000+02:00</td>\n",
       "      <td>register application</td>\n",
       "      <td>complete</td>\n",
       "      <td>trace 0</td>\n",
       "    </tr>\n",
       "    <tr>\n",
       "      <th>1</th>\n",
       "      <td>2013-04-16 10:16:02.889000+02:00</td>\n",
       "      <td>check credit</td>\n",
       "      <td>complete</td>\n",
       "      <td>trace 0</td>\n",
       "    </tr>\n",
       "    <tr>\n",
       "      <th>2</th>\n",
       "      <td>2013-04-16 10:16:27.858000+02:00</td>\n",
       "      <td>calculate capacity</td>\n",
       "      <td>complete</td>\n",
       "      <td>trace 0</td>\n",
       "    </tr>\n",
       "    <tr>\n",
       "      <th>3</th>\n",
       "      <td>2013-04-16 10:20:25.117000+02:00</td>\n",
       "      <td>check system</td>\n",
       "      <td>complete</td>\n",
       "      <td>trace 0</td>\n",
       "    </tr>\n",
       "    <tr>\n",
       "      <th>4</th>\n",
       "      <td>2013-04-16 10:21:29.939000+02:00</td>\n",
       "      <td>accept</td>\n",
       "      <td>complete</td>\n",
       "      <td>trace 0</td>\n",
       "    </tr>\n",
       "    <tr>\n",
       "      <th>5</th>\n",
       "      <td>2013-04-16 10:26:53.166000+02:00</td>\n",
       "      <td>send decision e-mail</td>\n",
       "      <td>complete</td>\n",
       "      <td>trace 0</td>\n",
       "    </tr>\n",
       "  </tbody>\n",
       "</table>\n",
       "</div>"
      ],
      "text/plain": [
       "                    time:timestamp          concept:name lifecycle:transition  \\\n",
       "0 2013-04-16 10:08:01.821000+02:00  register application             complete   \n",
       "1 2013-04-16 10:16:02.889000+02:00          check credit             complete   \n",
       "2 2013-04-16 10:16:27.858000+02:00    calculate capacity             complete   \n",
       "3 2013-04-16 10:20:25.117000+02:00          check system             complete   \n",
       "4 2013-04-16 10:21:29.939000+02:00                accept             complete   \n",
       "5 2013-04-16 10:26:53.166000+02:00  send decision e-mail             complete   \n",
       "\n",
       "  case:concept:name  \n",
       "0           trace 0  \n",
       "1           trace 0  \n",
       "2           trace 0  \n",
       "3           trace 0  \n",
       "4           trace 0  \n",
       "5           trace 0  "
      ]
     },
     "execution_count": 91,
     "metadata": {},
     "output_type": "execute_result"
    }
   ],
   "source": [
    "trace0 = log[log['case:concept:name'] == 'trace 0']\n",
    "trace0"
   ]
  },
  {
   "cell_type": "code",
   "execution_count": 54,
   "metadata": {},
   "outputs": [],
   "source": [
    "from datetime import datetime"
   ]
  },
  {
   "cell_type": "code",
   "execution_count": 153,
   "metadata": {},
   "outputs": [
    {
     "data": {
      "text/plain": [
       "datetime.time(10, 10, 1, 759000)"
      ]
     },
     "execution_count": 153,
     "metadata": {},
     "output_type": "execute_result"
    }
   ],
   "source": [
    "dt = datetime.strptime('2013-04-16 10:10:01.759000+02:00', \"%Y-%m-%d %H:%M:%S.%f%z\")\n",
    "date = dt.date()\n",
    "time = dt.time()\n",
    "time"
   ]
  },
  {
   "cell_type": "code",
   "execution_count": 141,
   "metadata": {},
   "outputs": [
    {
     "name": "stdout",
     "output_type": "stream",
     "text": [
      "2013-04-16 10:08:01.821000+02:00\n",
      "2013-04-16 10:26:53.166000+02:00\n"
     ]
    },
    {
     "data": {
      "text/plain": [
       "datetime.time(10, 26, 53, 166000)"
      ]
     },
     "execution_count": 141,
     "metadata": {},
     "output_type": "execute_result"
    }
   ],
   "source": [
    "#get the start activity's name from start_activites dictionary \n",
    "start_activity =\"\"\n",
    "for key, value in start_activities.items():\n",
    "    start_activity = key\n",
    "#print(start_activity)\n",
    "\n",
    "#get the date and time of the start activity \n",
    "preprocess = trace0[trace0['concept:name'] == start_activity]\n",
    "start_dt_string = str(preprocess['time:timestamp'].iloc[0])\n",
    "print(start_dt_string)\n",
    "\n",
    "#convert the value from df to datetime \n",
    "start_dt =  datetime.strptime(start_dt_string, \"%Y-%m-%d %H:%M:%S.%f%z\")\n",
    "start_dt_time = start_dt.time()\n",
    "start_dt_time \n",
    "\n",
    "\n",
    "#get the date and time of end activity \n",
    "#get the start activity's name from start_activites dictionary \n",
    "end_activity =\"\"\n",
    "for key, value in end_activities.items():\n",
    "    end_activity = key\n",
    "#print(end_activity)\n",
    "\n",
    "#get the date and time of the end activity \n",
    "preprocess = trace0[trace0['concept:name'] == end_activity]\n",
    "end_dt_string = str(preprocess['time:timestamp'].iloc[0])\n",
    "print(end_dt_string)\n",
    "\n",
    "#convert the value from df to datetime \n",
    "end_dt =  datetime.strptime(end_dt_string, \"%Y-%m-%d %H:%M:%S.%f%z\")\n",
    "end_dt_time = end_dt.time()\n",
    "end_dt_time"
   ]
  },
  {
   "cell_type": "code",
   "execution_count": 152,
   "metadata": {},
   "outputs": [
    {
     "data": {
      "text/plain": [
       "18.85"
      ]
     },
     "execution_count": 152,
     "metadata": {},
     "output_type": "execute_result"
    }
   ],
   "source": [
    "#calculate delta time of a case\n",
    "#from datetime import timedelta\n",
    "timedelta = end_dt - start_dt\n",
    "minutes = timedelta.seconds / 60\n",
    "minutes"
   ]
  },
  {
   "cell_type": "markdown",
   "metadata": {},
   "source": [
    "## Calculate average time between start_event and end_event for all cases"
   ]
  },
  {
   "cell_type": "code",
   "execution_count": 155,
   "metadata": {},
   "outputs": [
    {
     "data": {
      "text/html": [
       "<div>\n",
       "<style scoped>\n",
       "    .dataframe tbody tr th:only-of-type {\n",
       "        vertical-align: middle;\n",
       "    }\n",
       "\n",
       "    .dataframe tbody tr th {\n",
       "        vertical-align: top;\n",
       "    }\n",
       "\n",
       "    .dataframe thead th {\n",
       "        text-align: right;\n",
       "    }\n",
       "</style>\n",
       "<table border=\"1\" class=\"dataframe\">\n",
       "  <thead>\n",
       "    <tr style=\"text-align: right;\">\n",
       "      <th></th>\n",
       "      <th>time:timestamp</th>\n",
       "      <th>concept:name</th>\n",
       "      <th>lifecycle:transition</th>\n",
       "      <th>case:concept:name</th>\n",
       "    </tr>\n",
       "  </thead>\n",
       "  <tbody>\n",
       "    <tr>\n",
       "      <th>0</th>\n",
       "      <td>2013-04-16 10:08:01.821000+02:00</td>\n",
       "      <td>register application</td>\n",
       "      <td>complete</td>\n",
       "      <td>trace 0</td>\n",
       "    </tr>\n",
       "    <tr>\n",
       "      <th>1</th>\n",
       "      <td>2013-04-16 10:16:02.889000+02:00</td>\n",
       "      <td>check credit</td>\n",
       "      <td>complete</td>\n",
       "      <td>trace 0</td>\n",
       "    </tr>\n",
       "    <tr>\n",
       "      <th>2</th>\n",
       "      <td>2013-04-16 10:16:27.858000+02:00</td>\n",
       "      <td>calculate capacity</td>\n",
       "      <td>complete</td>\n",
       "      <td>trace 0</td>\n",
       "    </tr>\n",
       "    <tr>\n",
       "      <th>3</th>\n",
       "      <td>2013-04-16 10:20:25.117000+02:00</td>\n",
       "      <td>check system</td>\n",
       "      <td>complete</td>\n",
       "      <td>trace 0</td>\n",
       "    </tr>\n",
       "    <tr>\n",
       "      <th>4</th>\n",
       "      <td>2013-04-16 10:21:29.939000+02:00</td>\n",
       "      <td>accept</td>\n",
       "      <td>complete</td>\n",
       "      <td>trace 0</td>\n",
       "    </tr>\n",
       "  </tbody>\n",
       "</table>\n",
       "</div>"
      ],
      "text/plain": [
       "                    time:timestamp          concept:name lifecycle:transition  \\\n",
       "0 2013-04-16 10:08:01.821000+02:00  register application             complete   \n",
       "1 2013-04-16 10:16:02.889000+02:00          check credit             complete   \n",
       "2 2013-04-16 10:16:27.858000+02:00    calculate capacity             complete   \n",
       "3 2013-04-16 10:20:25.117000+02:00          check system             complete   \n",
       "4 2013-04-16 10:21:29.939000+02:00                accept             complete   \n",
       "\n",
       "  case:concept:name  \n",
       "0           trace 0  \n",
       "1           trace 0  \n",
       "2           trace 0  \n",
       "3           trace 0  \n",
       "4           trace 0  "
      ]
     },
     "execution_count": 155,
     "metadata": {},
     "output_type": "execute_result"
    }
   ],
   "source": [
    "log.head()"
   ]
  },
  {
   "cell_type": "markdown",
   "metadata": {},
   "source": [
    "Get the total number of cases first. Then loop through each case and find the time delta of that case. Keep appending the time delta of the case to a list. At the end of the loop, calculate the average time duration taken by the activities from start to end. "
   ]
  },
  {
   "cell_type": "code",
   "execution_count": 166,
   "metadata": {},
   "outputs": [],
   "source": [
    "all_cases = np.unique(log['case:concept:name'])\n",
    "total_number_of_cases = len(set(log['case:concept:name']))"
   ]
  },
  {
   "cell_type": "markdown",
   "metadata": {},
   "source": [
    "For each case, create a subset DataFrame having only that particular concept name "
   ]
  },
  {
   "cell_type": "code",
   "execution_count": 185,
   "metadata": {},
   "outputs": [],
   "source": [
    "time_delta_list = []\n",
    "for case in all_cases:\n",
    "    current_trace =  log[log['case:concept:name'] == case]\n",
    "#    print(current_trace)\n",
    "    \n",
    "    #calculate the time delta\n",
    "    #get the start activity's name from start_activites dictionary \n",
    "    start_activity =\"\"\n",
    "    for key, value in start_activities.items():\n",
    "        start_activity = key\n",
    "    #print(start_activity)\n",
    "\n",
    "    #get the date and time of the start activity \n",
    "    preprocess = current_trace[current_trace['concept:name'] == start_activity]\n",
    "    start_dt_string = str(preprocess['time:timestamp'].iloc[0])\n",
    "    #print(start_dt_string)\n",
    "\n",
    "    #convert the value from df to datetime \n",
    "    start_dt =  datetime.strptime(start_dt_string, \"%Y-%m-%d %H:%M:%S.%f%z\")\n",
    "    start_dt_time = start_dt.time()\n",
    "    start_dt_time \n",
    "\n",
    "\n",
    "    #get the date and time of end activity \n",
    "    #get the start activity's name from start_activites dictionary \n",
    "    end_activity =\"\"\n",
    "    for key, value in end_activities.items():\n",
    "        end_activity = key\n",
    "    #print(end_activity)\n",
    "\n",
    "    #get the date and time of the end activity \n",
    "    preprocess = current_trace[current_trace['concept:name'] == end_activity]\n",
    "    end_dt_string = str(preprocess['time:timestamp'].iloc[0])\n",
    "    #print(end_dt_string)\n",
    "\n",
    "    #convert the value from df to datetime \n",
    "    try:\n",
    "        end_dt =  datetime.strptime(end_dt_string, \"%Y-%m-%d %H:%M:%S.%f%z\")\n",
    "        end_dt_time = end_dt.time()\n",
    "    except:\n",
    "        #print(current_trace)\n",
    "        #print('there is an error')\n",
    "        end_dt =  datetime.strptime(end_dt_string, \"%Y-%m-%d %H:%M:%S%z\")\n",
    "        end_dt_time = end_dt.time()\n",
    "        #print(end_dt_time)\n",
    "        \n",
    "        \n",
    "    #calculate delta time of a case\n",
    "    #from datetime import timedelta\n",
    "    timedelta = end_dt - start_dt\n",
    "    minutes = timedelta.seconds / 60\n",
    "    minutes\n",
    "    \n",
    "    #append the timedelta minutes to list\n",
    "    time_delta_list.append(timedelta)"
   ]
  },
  {
   "cell_type": "code",
   "execution_count": 206,
   "metadata": {},
   "outputs": [],
   "source": [
    "#time_delta_list"
   ]
  },
  {
   "cell_type": "code",
   "execution_count": 211,
   "metadata": {},
   "outputs": [
    {
     "name": "stdout",
     "output_type": "stream",
     "text": [
      "145443.65900000004\n"
     ]
    },
    {
     "data": {
      "text/plain": [
       "24.24060983333334"
      ]
     },
     "execution_count": 211,
     "metadata": {},
     "output_type": "execute_result"
    }
   ],
   "source": [
    "#sum all seconds and microseconds in time_delta_list\n",
    "sum_time = 0\n",
    "for element in time_delta_list:\n",
    "    microsecond_to_second = element.microseconds / 1000000\n",
    "    seconds_plus_microseconds = element.seconds + microsecond_to_second\n",
    "    sum_time += seconds_plus_microseconds\n",
    "    #print(seconds_plus_microseconds)\n",
    "\n",
    "#take the average\n",
    "print(sum_time)\n",
    "average_start_end = sum_time / total_number_of_cases \n",
    "average_start_end_minutes = average_start_end / 60 \n",
    "average_start_end_minutes"
   ]
  },
  {
   "cell_type": "code",
   "execution_count": null,
   "metadata": {},
   "outputs": [],
   "source": []
  }
 ],
 "metadata": {
  "kernelspec": {
   "display_name": "Python 3 (ipykernel)",
   "language": "python",
   "name": "python3"
  },
  "language_info": {
   "codemirror_mode": {
    "name": "ipython",
    "version": 3
   },
   "file_extension": ".py",
   "mimetype": "text/x-python",
   "name": "python",
   "nbconvert_exporter": "python",
   "pygments_lexer": "ipython3",
   "version": "3.9.12"
  }
 },
 "nbformat": 4,
 "nbformat_minor": 2
}
